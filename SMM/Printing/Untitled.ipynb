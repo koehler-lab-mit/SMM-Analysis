{
 "cells": [
  {
   "cell_type": "code",
   "execution_count": 3,
   "metadata": {},
   "outputs": [
    {
     "name": "stdout",
     "output_type": "stream",
     "text": [
      "The Cython extension is already loaded. To reload it, use:\n",
      "  %reload_ext Cython\n"
     ]
    }
   ],
   "source": [
    "import cython\n",
    "import numpy as np\n",
    "from scipy.spatial.distance import squareform, pdist\n",
    "%load_ext Cython"
   ]
  },
  {
   "cell_type": "code",
   "execution_count": null,
   "metadata": {},
   "outputs": [],
   "source": [
    "cimport numpy as cnp\n",
    "from numpy cimport float32_t\n",
    "def distance(distance, times):\n",
    "    return squareform(squareform(pdist(distance, 'sqeuclidean')) * np.abs(times[:,None]-times[None,:]))\n",
    "\n",
    "def cython_distance(float32_t [:] distance, float32_t [:] times):\n",
    "    pass\n",
    "\n",
    "def cy_distance(float32_t)\n",
    "\n"
   ]
  }
 ],
 "metadata": {
  "kernelspec": {
   "display_name": "Python 3",
   "language": "python",
   "name": "python3"
  },
  "language_info": {
   "codemirror_mode": {
    "name": "ipython",
    "version": 3
   },
   "file_extension": ".py",
   "mimetype": "text/x-python",
   "name": "python",
   "nbconvert_exporter": "python",
   "pygments_lexer": "ipython3",
   "version": "3.7.9"
  }
 },
 "nbformat": 4,
 "nbformat_minor": 4
}
