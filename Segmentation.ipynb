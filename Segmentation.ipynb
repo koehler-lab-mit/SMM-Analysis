{
 "cells": [
  {
   "cell_type": "code",
   "execution_count": 1,
   "metadata": {},
   "outputs": [],
   "source": [
    "import numpy as np\n",
    "from PIL import Image, ImageDraw\n",
    "from SMM.smm_io.Scan import Scan\n",
    "from SMM.smm_io.ATF import load_gal\n",
    "\n",
    "from skimage.filters import *\n",
    "from skimage.morphology import *\n",
    "from skimage.feature import *\n",
    "from skimage.segmentation import *\n",
    "from skimage.transform import *\n",
    "from scipy.ndimage import distance_transform_edt\n",
    "from skimage import draw as skdraw"
   ]
  },
  {
   "cell_type": "code",
   "execution_count": 2,
   "metadata": {},
   "outputs": [
    {
     "name": "stdout",
     "output_type": "stream",
     "text": [
      "Scan(50001918, 532nm, Standard Green)\n"
     ]
    }
   ],
   "source": [
    "scan = Scan.load_tif('/Volumes/RMW_3/RBD_Panel/SMM-opt/50001918_2020-12-30_S46_A1.tif')[0]\n",
    "print(scan)"
   ]
  },
  {
   "cell_type": "code",
   "execution_count": 3,
   "metadata": {},
   "outputs": [
    {
     "name": "stderr",
     "output_type": "stream",
     "text": [
      "/Users/koehlerchemmodeling/PycharmProjects/SMM-Analysis/SMM/smm_io/ATF.py:14: FutureWarning: The default value of regex will change from True to False in a future version. In addition, single character regular expressions will*not* be treated as literal strings when regex=True.\n",
      "  return pd_object.str.upper().str.replace('.', '')\n"
     ]
    }
   ],
   "source": [
    "gal = load_gal('/Volumes/RMW_3/Compact-Set1.gal', map_blocks=True)\n",
    "gal.ID\n",
    "ids = gal.ID.str.extract(r'(\\d+)-([A-P])(\\d+)\\Z').convert_dtypes()\n",
    "ids.columns = ['Plate', 'Row', 'Column']\n",
    "sentinels = gal[(ids.Plate=='30') & (ids.Row.str.contains(r'[I-P]'))]"
   ]
  },
  {
   "cell_type": "code",
   "execution_count": 4,
   "metadata": {},
   "outputs": [],
   "source": [
    "def impose_grid(pil, gal, xpos, ypos, res):\n",
    "    draw = ImageDraw.Draw(image)\n",
    "    for _, x, y, r in gal[['X', 'Y', 'DIA']].itertuples():\n",
    "        x = (x-xpos)//res\n",
    "        y = (y-ypos)//res\n",
    "        r = (r/2)//res\n",
    "        draw.ellipse((x-r, y-r, x+r, y+r), outline='red')"
   ]
  },
  {
   "cell_type": "code",
   "execution_count": 36,
   "metadata": {},
   "outputs": [],
   "source": [
    "def bbox2(img):\n",
    "    rows = np.any(img, axis=1)\n",
    "    cols = np.any(img, axis=0)\n",
    "    ymin, ymax = np.where(rows)[0][[0, -1]]\n",
    "    xmin, xmax = np.where(cols)[0][[0, -1]]\n",
    "    return img[ymin:ymax+1, xmin:xmax+1], ymin, xmin\n",
    "\n",
    "def make_mask(scan, gal):\n",
    "    mask = np.zeros(scan.data.shape)\n",
    "    xpos = scan.x_offset\n",
    "    ypos = scan.y_offset\n",
    "    res = scan.resolution\n",
    "    shape = scan.data.shape\n",
    "    for _, x, y, r in gal[['X', 'Y', 'DIA']].itertuples():\n",
    "        x = (x-xpos)/res\n",
    "        y = (y-ypos)/res\n",
    "        r = (r/2)/res\n",
    "        rr, cc = skdraw.disk((y, x), r, shape=shape)\n",
    "        mask[rr,cc]=1\n",
    "    return bbox2(mask)\n",
    "\n",
    "def scanning_search(image, gal, xpos, ypos, res):\n",
    "    rrs = []\n",
    "    ccs = []\n",
    "    for _, x, y, r in gal[['X', 'Y', 'DIA']].itertuples():\n",
    "        x = (x-xpos)/res\n",
    "        y = (y-ypos)/res\n",
    "        r = (r/2)/res\n",
    "        rr, cc = skdraw.disk((y, x), r, shape=image.shape)\n",
    "        rrs.append(rr)\n",
    "        ccs.append(cc)\n",
    "    rrs = np.concatenate(rrs)\n",
    "    ccs = np.concatenate(ccs)\n",
    "    rmin = rrs.min()\n",
    "    cmin = ccs.min()\n",
    "    rrs -= rmin\n",
    "    ccs -= cmin\n",
    "    rmax = rrs.max()\n",
    "    cmax = ccs.max()\n",
    "    \n",
    "    output = np.empty((image.shape[0]-rmax, image.shape[1]-cmax), dtype=np.float64)\n",
    "    \n",
    "    for i in range(image.shape[0]-rmax):\n",
    "        for j in range(image.shape[1]-cmax):\n",
    "            output[i,j] = image[rrs+i, ccs+j].sum()\n",
    "    return output"
   ]
  },
  {
   "cell_type": "code",
   "execution_count": 37,
   "metadata": {},
   "outputs": [],
   "source": [
    "thresh = scan.data[0:6400] > (threshold_local(scan.data[0:6400], 35, method='mean') * 2)\n",
    "thresh = binary_opening(thresh)\n",
    "remove_small_objects(thresh, 50, in_place=True)\n",
    "out = scanning_search(thresh, sentinels, scan.x_offset, scan.y_offset, scan.resolution)"
   ]
  },
  {
   "cell_type": "code",
   "execution_count": 38,
   "metadata": {},
   "outputs": [],
   "source": [
    "Image.fromarray(out).show()"
   ]
  },
  {
   "cell_type": "code",
   "execution_count": 26,
   "metadata": {},
   "outputs": [],
   "source": [
    "from skimage.feature import match_template\n",
    "thresh = scan.data[0:6400] > (threshold_local(scan.data[0:6400], 35, method='mean') * 2)\n",
    "thresh = binary_opening(thresh)\n",
    "remove_small_objects(thresh, 50, in_place=True)\n",
    "thresh = distance_transform_edt(~thresh)\n",
    "mask, ymin, xmin = make_mask(scan, sentinels)\n",
    "\n",
    "d2 = match_template(thresh, mask)"
   ]
  },
  {
   "cell_type": "code",
   "execution_count": 24,
   "metadata": {},
   "outputs": [
    {
     "name": "stdout",
     "output_type": "stream",
     "text": [
      "528 646\n"
     ]
    }
   ],
   "source": [
    "r=5\n",
    "image = Image.fromarray(d2*500).convert('RGB')\n",
    "y, x = np.unravel_index(np.argmax(d2), d2.shape)\n",
    "print(x, y)\n",
    "draw = ImageDraw.Draw(image)\n",
    "draw.ellipse((x-r, y-r, x+r, y+r), fill='red')\n",
    "image.show()"
   ]
  },
  {
   "cell_type": "code",
   "execution_count": 27,
   "metadata": {},
   "outputs": [
    {
     "name": "stdout",
     "output_type": "stream",
     "text": [
      "647 986\n"
     ]
    }
   ],
   "source": [
    "r=10\n",
    "y, x = np.unravel_index(np.argmax(d2), d2.shape)\n",
    "y += ymin\n",
    "x += xmin\n",
    "\n",
    "print(x, y)\n",
    "image = Image.fromarray(thresh).convert('RGB')\n",
    "draw = ImageDraw.Draw(image)\n",
    "draw.ellipse((x-r, y-r, x+r, y+r), fill='red')\n",
    "image.show()"
   ]
  },
  {
   "cell_type": "code",
   "execution_count": null,
   "metadata": {},
   "outputs": [],
   "source": [
    "from scipy.signal import convolve, correlate2d\n",
    "thresh = scan.data[0:6400] > (threshold_local(scan.data[0:6400], 35, method='mean') * 2)\n",
    "thresh = binary_opening(thresh)\n",
    "remove_small_objects(thresh, 50, in_place=True)\n",
    "mask = make_mask(scan, sentinels)\n",
    "\n",
    "d2 = correlate2d(thresh, mask, mode='valid')\n"
   ]
  },
  {
   "cell_type": "code",
   "execution_count": null,
   "metadata": {},
   "outputs": [],
   "source": []
  },
  {
   "cell_type": "code",
   "execution_count": null,
   "metadata": {},
   "outputs": [],
   "source": [
    "thresh = scan.data[0:6400] > (threshold_local(scan.data[0:6400], 35, method='mean') * 2)\n",
    "thresh = binary_opening(thresh)\n",
    "remove_small_objects(thresh, 50, in_place=True)\n",
    "thresh = distance_transform_edt(~thresh) ** 2\n",
    "thresh[thresh>100] = 100"
   ]
  },
  {
   "cell_type": "code",
   "execution_count": null,
   "metadata": {},
   "outputs": [],
   "source": [
    "image = Image.fromarray(thresh)\n",
    "impose_grid(image, gal, scan.x_offset, scan.y_offset, scan.resolution)\n",
    "image.show()"
   ]
  },
  {
   "cell_type": "code",
   "execution_count": null,
   "metadata": {},
   "outputs": [],
   "source": []
  }
 ],
 "metadata": {
  "kernelspec": {
   "display_name": "Python 3",
   "language": "python",
   "name": "python3"
  },
  "language_info": {
   "codemirror_mode": {
    "name": "ipython",
    "version": 3
   },
   "file_extension": ".py",
   "mimetype": "text/x-python",
   "name": "python",
   "nbconvert_exporter": "python",
   "pygments_lexer": "ipython3",
   "version": "3.8.6"
  }
 },
 "nbformat": 4,
 "nbformat_minor": 4
}
