{
 "cells": [
  {
   "cell_type": "code",
   "execution_count": 115,
   "metadata": {},
   "outputs": [],
   "source": [
    "import numpy as np\n",
    "from PIL import Image, ImageDraw\n",
    "from SMM.smm_io.Scan import Scan\n",
    "from SMM.smm_io.ATF import load_gal"
   ]
  },
  {
   "cell_type": "code",
   "execution_count": 35,
   "metadata": {},
   "outputs": [
    {
     "name": "stdout",
     "output_type": "stream",
     "text": [
      "Scan(50001918, 532nm, Standard Green)\n"
     ]
    }
   ],
   "source": [
    "scan = Scan.load_tif('/Volumes/RMW_3/RBD_Panel/SMM-opt/50001918_2020-12-30_S46_A1.tif')[0]\n",
    "print(scan)"
   ]
  },
  {
   "cell_type": "code",
   "execution_count": 114,
   "metadata": {},
   "outputs": [
    {
     "name": "stdout",
     "output_type": "stream",
     "text": [
      "     BLOCK  COLUMN  ROW     X     Y  DIA   NAME                      ID\n",
      "0        1       1    1  3300  6000  160  Empty   Dflt-360384-384-30-P1\n",
      "10       1      11    1  5300  6000  160  Empty   Dflt-360384-384-30-P1\n",
      "21       1      22    1  7500  6000  160  Empty   Dflt-360384-384-30-L1\n",
      "241      1      22   11  7500  8000  160  Empty   Dflt-360384-384-30-L1\n",
      "242      1       1   12  3300  8200  160  Empty  Dflt-360384-384-30-P13\n"
     ]
    },
    {
     "name": "stderr",
     "output_type": "stream",
     "text": [
      "/Users/koehlerchemmodeling/PycharmProjects/SMM-Analysis/SMM/smm_io/ATF.py:14: FutureWarning: The default value of regex will change from True to False in a future version. In addition, single character regular expressions will*not* be treated as literal strings when regex=True.\n",
      "  return pd_object.str.upper().str.replace('.', '')\n"
     ]
    }
   ],
   "source": [
    "gal = load_gal('/Volumes/RMW_3/Compact-Set1.gal', map_blocks=True)\n",
    "gal.ID\n",
    "ids = gal.ID.str.extract(r'(\\d+)-([A-P])(\\d+)\\Z').convert_dtypes()\n",
    "ids.columns = ['Plate', 'Row', 'Column']\n",
    "sentinels = gal[(ids.Plate=='30') & (ids.Row.str.contains(r'[I-P]'))]\n",
    "print(sentinels.head())"
   ]
  },
  {
   "cell_type": "code",
   "execution_count": 23,
   "metadata": {},
   "outputs": [],
   "source": [
    "Image.fromarray(scan.data[0:6400]).show()"
   ]
  },
  {
   "cell_type": "code",
   "execution_count": 84,
   "metadata": {},
   "outputs": [],
   "source": [
    "from skimage.filters import *\n",
    "from skimage.morphology import *\n",
    "from skimage.feature import *\n",
    "from skimage.segmentation import *\n",
    "from skimage.transform import *\n",
    "from scipy.ndimage import distance_transform_edt"
   ]
  },
  {
   "cell_type": "code",
   "execution_count": 128,
   "metadata": {},
   "outputs": [],
   "source": [
    "def impose_grid(pil, gal, xpos, ypos, res):\n",
    "    draw = ImageDraw.Draw(image)\n",
    "    for _, x, y, r in gal[['X', 'Y', 'DIA']].itertuples():\n",
    "        x = (x-xpos)//res\n",
    "        y = (y-ypos)//res\n",
    "        r = (r/2)//res\n",
    "        draw.ellipse((x-r, y-r, x+r, y+r), outline='red')"
   ]
  },
  {
   "cell_type": "code",
   "execution_count": 95,
   "metadata": {},
   "outputs": [],
   "source": [
    "thresh = scan.data[0:6400] > (threshold_local(scan.data[0:6400], 35, method='mean') * 2)\n",
    "thresh = binary_opening(thresh)\n",
    "remove_small_objects(thresh, 50, in_place=True)\n",
    "thresh = distance_transform_edt(~thresh) ** 2\n",
    "thresh[thresh>100] = 100"
   ]
  },
  {
   "cell_type": "code",
   "execution_count": 132,
   "metadata": {},
   "outputs": [],
   "source": [
    "image = Image.fromarray(thresh)\n",
    "impose_grid(image, gal, scan.x_offset, scan.y_offset, scan.resolution)\n",
    "image.show()"
   ]
  },
  {
   "cell_type": "code",
   "execution_count": null,
   "metadata": {},
   "outputs": [],
   "source": []
  }
 ],
 "metadata": {
  "kernelspec": {
   "display_name": "Python 3",
   "language": "python",
   "name": "python3"
  },
  "language_info": {
   "codemirror_mode": {
    "name": "ipython",
    "version": 3
   },
   "file_extension": ".py",
   "mimetype": "text/x-python",
   "name": "python",
   "nbconvert_exporter": "python",
   "pygments_lexer": "ipython3",
   "version": "3.8.6"
  }
 },
 "nbformat": 4,
 "nbformat_minor": 4
}
