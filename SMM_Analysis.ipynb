{
 "cells": [
  {
   "cell_type": "markdown",
   "metadata": {},
   "source": [
    "This is a workflow for the analysis and interpretation of Small Molecule Microarray (SMM) chemical screens. The purpose of this screen is to identify small molecules that, when covalently bound to a glass substrate, are capable of selectively interacting with a fluorescently labeled analyte. Basic proficiency with Python is not a requirement to execute this workflow, but would be necessary to alter the workflow significantly.\n",
    "\n",
    "This workflow will allow the user to move from previously quantified microarrays (in the form of GPR files) and the raw microarray scanner data (in the form of TIFF files) to a summarized and promiscuity-filtered list of assay positives. GPR files can be generated from GAL files through GenePix Pro or similar softwares, or programmatically through the SMMTools Python module.\n",
    "\n",
    "The format of the GPR file is critical to this workflow. The **ID** column is expected to be the singular identifier of each \"sample\" within the screen. Generally, a plate and well identifier is used, e.g. \"Plate:Row:Column\". **Name** is expected to identify the type of sample, e.g. *Compound*, *DMSO*, *Empty*, or any appropriate assay positive controls. Additionally, a **SMILES** column should be provided to visualize compound structures. Any other optional identifier columns (for example, a PubChem SID column) are also accepted and will be included in the analysis. Because **ID** is assumed to refer to a single sample, other identifier columns should be consistent within each sample.\n",
    "\n",
    "There are four tasks to accomplish within SMM analysis:\n",
    "1. Identify samples with significant fluorescence increase over the background\n",
    "2. Manually validate the assay positives to limit the false positive rate\n",
    "3. Verify the quality of the SMM screeninng data\n",
    "4. Label compounds that are frequent assay positives to prevent the inclusion of promiscuous compounds.\n",
    "\n",
    "This workflow was collaboratively authored by Rob Wilson (<rwilson@mit.edu>), Natalie Lewis, and the [Koehler Lab at MIT](koehler-lab.mit.edu)."
   ]
  },
  {
   "cell_type": "code",
   "execution_count": null,
   "metadata": {},
   "outputs": [],
   "source": [
    "# TODO Import the required libraries"
   ]
  },
  {
   "cell_type": "markdown",
   "metadata": {},
   "source": [
    "This next cell is the only one that requires manual editing. Two directories are necessary; one containing all of the GPR files in the analysis, and one containing all of the TIFF files. They can be the same directory. Except for the file extension, the names of the GPR and TIFF files should match their counterparts. Any un-matched files will raise an error. We will call the file names *Barcodes*, although it's not necessary that the slides are actually barcoded.\n",
    "Additionally, provide a list of the identifier columns within the GPR files. Remember that only the **ID** column is used for grouping, but the other columns will be carried forward as well."
   ]
  },
  {
   "cell_type": "code",
   "execution_count": null,
   "metadata": {},
   "outputs": [],
   "source": []
  }
 ],
 "metadata": {
  "kernelspec": {
   "display_name": "Python 3",
   "language": "python",
   "name": "python3"
  },
  "language_info": {
   "codemirror_mode": {
    "name": "ipython",
    "version": 3
   },
   "file_extension": ".py",
   "mimetype": "text/x-python",
   "name": "python",
   "nbconvert_exporter": "python",
   "pygments_lexer": "ipython3",
   "version": "3.7.3"
  }
 },
 "nbformat": 4,
 "nbformat_minor": 2
}
